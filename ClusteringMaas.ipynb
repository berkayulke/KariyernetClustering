{
  "nbformat": 4,
  "nbformat_minor": 0,
  "metadata": {
    "colab": {
      "provenance": [],
      "collapsed_sections": [
        "xeyd-b2wcelP"
      ]
    },
    "kernelspec": {
      "name": "python3",
      "display_name": "Python 3"
    },
    "language_info": {
      "name": "python"
    },
    "gpuClass": "standard"
  },
  "cells": [
    {
      "cell_type": "code",
      "execution_count": 5,
      "metadata": {
        "colab": {
          "base_uri": "https://localhost:8080/"
        },
        "id": "nV83AeExaxoM",
        "outputId": "bb291c08-3a41-4210-cb93-8519476130bb"
      },
      "outputs": [
        {
          "output_type": "stream",
          "name": "stdout",
          "text": [
            "Mounted at /content/drive\n"
          ]
        }
      ],
      "source": [
        "from google.colab import drive\n",
        "drive.mount('/content/drive')"
      ]
    },
    {
      "cell_type": "code",
      "source": [
        "#Get CSV from Drive\n",
        "!cp drive/MyDrive/machineLearning/Analizsiz_v2.0.csv ./"
      ],
      "metadata": {
        "id": "gY1S-dYPcyNh"
      },
      "execution_count": 6,
      "outputs": []
    },
    {
      "cell_type": "code",
      "source": [
        "%%capture\n",
        "!pip install prince\n",
        "!pip install kmodes"
      ],
      "metadata": {
        "id": "IQZ3FDY-intb"
      },
      "execution_count": 1,
      "outputs": []
    },
    {
      "cell_type": "code",
      "source": [
        "import collections\n",
        "import matplotlib.pyplot as plt\n",
        "import numpy as np\n",
        "import pandas as pd\n",
        "import seaborn as sns\n",
        "\n",
        "from math import log10, log2, log, sqrt, pow\n",
        "\n",
        "from matplotlib import cm\n",
        "\n",
        "from scipy.stats import mode\n",
        "\n",
        "from sklearn.cluster import KMeans\n",
        "from sklearn.compose import make_column_transformer\n",
        "from sklearn.decomposition import PCA, TruncatedSVD, FactorAnalysis, FastICA\n",
        "from sklearn.linear_model import BayesianRidge, LinearRegression, SGDRegressor, ARDRegression, HuberRegressor, QuantileRegressor\n",
        "from sklearn.manifold import TSNE\n",
        "from sklearn.metrics import silhouette_samples, davies_bouldin_score, calinski_harabasz_score\n",
        "from sklearn.metrics import normalized_mutual_info_score, rand_score, adjusted_rand_score\n",
        "from sklearn.metrics import r2_score, mean_squared_error, mean_absolute_percentage_error, mean_absolute_error\n",
        "from sklearn.model_selection import train_test_split\n",
        "from sklearn.naive_bayes import GaussianNB, CategoricalNB\n",
        "from sklearn.neural_network import MLPRegressor\n",
        "from sklearn.preprocessing import OrdinalEncoder, OneHotEncoder, MinMaxScaler, LabelEncoder\n",
        "from sklearn.pipeline import make_pipeline\n",
        "from sklearn.svm import LinearSVR\n",
        "from sklearn.tree import DecisionTreeRegressor\n",
        "\n",
        "from xgboost import XGBRegressor\n",
        "\n",
        "from kmodes.kmodes import KModes\n",
        "from prince import FAMD, MCA\n",
        "\n",
        "%matplotlib inline"
      ],
      "metadata": {
        "id": "2HdmEeTTc0G9"
      },
      "execution_count": 7,
      "outputs": []
    },
    {
      "cell_type": "code",
      "source": [
        "dataset = pd.read_csv(\"./Analizsiz_v2.0.csv\")"
      ],
      "metadata": {
        "id": "vdbMVnxlc3q6"
      },
      "execution_count": 35,
      "outputs": []
    },
    {
      "cell_type": "markdown",
      "source": [
        "### Preparing dataset for use"
      ],
      "metadata": {
        "id": "xeyd-b2wcelP"
      }
    },
    {
      "cell_type": "code",
      "source": [
        "def to_cats(dataframe, col_list):\n",
        "  for col in col_list:\n",
        "    dataframe[col] = dataframe[col].astype(\"category\")\n",
        "  return dataframe"
      ],
      "metadata": {
        "id": "wgfZdLBAzu0n"
      },
      "execution_count": 36,
      "outputs": []
    },
    {
      "cell_type": "code",
      "source": [
        "def get_years(datetime_str):\n",
        "  return int(datetime_str[:4])"
      ],
      "metadata": {
        "id": "omRERRpC-gEX"
      },
      "execution_count": 37,
      "outputs": []
    },
    {
      "cell_type": "code",
      "source": [
        "dataset[\"creationyear\"] = dataset.apply(lambda row: get_years(row[\"creationdate\"]), axis=1)"
      ],
      "metadata": {
        "id": "8vHKzeMl-EOZ"
      },
      "execution_count": 38,
      "outputs": []
    },
    {
      "cell_type": "code",
      "source": [
        "cat_cols = [\"classification\", \"positiondescription\", \"newpositiongroupcode\",\n",
        "            \"companyId\", \"SalaryType\", \"mainsectorname\", \"workerType\", \"salarycount\", \"level\",\n",
        "            \"getsBonus\", \"creationyear\"]\n",
        "dataset = to_cats(dataset, cat_cols)"
      ],
      "metadata": {
        "id": "rXLXq_3Az-MI"
      },
      "execution_count": 39,
      "outputs": []
    },
    {
      "cell_type": "code",
      "source": [
        "dataset.head(10) #date -> sayısal, unix time, min bul gun farki"
      ],
      "metadata": {
        "id": "kD02DzWJZoAN",
        "colab": {
          "base_uri": "https://localhost:8080/",
          "height": 601
        },
        "outputId": "230b21ee-9749-446e-e14e-a3a0a567a63a"
      },
      "execution_count": 40,
      "outputs": [
        {
          "output_type": "execute_result",
          "data": {
            "text/plain": [
              "          classification              positiondescription  \\\n",
              "0      Satış - Pazarlama       Satış Aplikasyon Sorumlusu   \n",
              "1       Teknik Hizmetler                 Dizayn Ofis Şefi   \n",
              "2     Müşteri Hizmetleri               Müşteri Temsilcisi   \n",
              "3       Teknik Hizmetler               Teknik Koordinatör   \n",
              "4    Bilgi Teknolojileri         Grafik Tasarım Sorumlusu   \n",
              "5  Elektrik / Elektronik  Elektronik Bakım Onarım Elemanı   \n",
              "6               Otomotiv                    Galeri Müdürü   \n",
              "7                Tekstil                Varyant Sorumlusu   \n",
              "8                 Eğitim              Matematik Öğretmeni   \n",
              "9     Depolama / Dağıtım                  Dağıtım Elemanı   \n",
              "\n",
              "  newpositiongroupcode companyId SalaryType salarycount  \\\n",
              "0                   B2    315643        Net          12   \n",
              "1                   B3    298022        Net          12   \n",
              "2                   B1    279905        Net          12   \n",
              "3                   B4    273851        Net          12   \n",
              "4                   B2    266120        Net          12   \n",
              "5                   M1    279546        Net          12   \n",
              "6                   B4    316837        Net          12   \n",
              "7                   M3    278283        Net          12   \n",
              "8                   B3    260690        Net          12   \n",
              "9                   M1    272313        Net          12   \n",
              "\n",
              "              creationdate  Price         mainsectorname  PriceYear  \\\n",
              "0  2019-10-11 16:48:20.756   3200                Ticaret      38400   \n",
              "1  2019-10-11 16:48:25.168   3500                   Yapı      42000   \n",
              "2  2019-10-11 16:48:43.345   2020       Telekomünikasyon      24240   \n",
              "3  2019-10-11 16:48:44.696   5250                 Hizmet      63000   \n",
              "4  2019-10-11 16:52:26.743   3500           Sigortacılık      42000   \n",
              "5  2019-10-11 16:52:30.392   2550                   Yapı      30600   \n",
              "6  2019-10-11 16:54:43.727   5000                   Gıda      60000   \n",
              "7  2019-10-11 16:54:58.345   2400                Tekstil      28800   \n",
              "8  2019-10-11 16:55:05.500   3000                Ticaret      36000   \n",
              "9  2019-10-11 16:55:13.888   2640  Hızlı Tüketim Malları      31680   \n",
              "\n",
              "   netsalary  netsalary2022 workerType level getsBonus creationyear  \n",
              "0      38400          67260          B     2         0         2019  \n",
              "1      42000          73565          B     3         0         2019  \n",
              "2      24240          42458          B     1         0         2019  \n",
              "3      63000         110348          B     4         0         2019  \n",
              "4      42000          73565          B     2         0         2019  \n",
              "5      30600          53597          M     1         0         2019  \n",
              "6      60000         105094          B     4         0         2019  \n",
              "7      28800          50445          M     3         0         2019  \n",
              "8      36000          63056          B     3         0         2019  \n",
              "9      31680          55489          M     1         0         2019  "
            ],
            "text/html": [
              "\n",
              "  <div id=\"df-fded1f39-e845-4abd-ab31-80c765a2fd5d\">\n",
              "    <div class=\"colab-df-container\">\n",
              "      <div>\n",
              "<style scoped>\n",
              "    .dataframe tbody tr th:only-of-type {\n",
              "        vertical-align: middle;\n",
              "    }\n",
              "\n",
              "    .dataframe tbody tr th {\n",
              "        vertical-align: top;\n",
              "    }\n",
              "\n",
              "    .dataframe thead th {\n",
              "        text-align: right;\n",
              "    }\n",
              "</style>\n",
              "<table border=\"1\" class=\"dataframe\">\n",
              "  <thead>\n",
              "    <tr style=\"text-align: right;\">\n",
              "      <th></th>\n",
              "      <th>classification</th>\n",
              "      <th>positiondescription</th>\n",
              "      <th>newpositiongroupcode</th>\n",
              "      <th>companyId</th>\n",
              "      <th>SalaryType</th>\n",
              "      <th>salarycount</th>\n",
              "      <th>creationdate</th>\n",
              "      <th>Price</th>\n",
              "      <th>mainsectorname</th>\n",
              "      <th>PriceYear</th>\n",
              "      <th>netsalary</th>\n",
              "      <th>netsalary2022</th>\n",
              "      <th>workerType</th>\n",
              "      <th>level</th>\n",
              "      <th>getsBonus</th>\n",
              "      <th>creationyear</th>\n",
              "    </tr>\n",
              "  </thead>\n",
              "  <tbody>\n",
              "    <tr>\n",
              "      <th>0</th>\n",
              "      <td>Satış - Pazarlama</td>\n",
              "      <td>Satış Aplikasyon Sorumlusu</td>\n",
              "      <td>B2</td>\n",
              "      <td>315643</td>\n",
              "      <td>Net</td>\n",
              "      <td>12</td>\n",
              "      <td>2019-10-11 16:48:20.756</td>\n",
              "      <td>3200</td>\n",
              "      <td>Ticaret</td>\n",
              "      <td>38400</td>\n",
              "      <td>38400</td>\n",
              "      <td>67260</td>\n",
              "      <td>B</td>\n",
              "      <td>2</td>\n",
              "      <td>0</td>\n",
              "      <td>2019</td>\n",
              "    </tr>\n",
              "    <tr>\n",
              "      <th>1</th>\n",
              "      <td>Teknik Hizmetler</td>\n",
              "      <td>Dizayn Ofis Şefi</td>\n",
              "      <td>B3</td>\n",
              "      <td>298022</td>\n",
              "      <td>Net</td>\n",
              "      <td>12</td>\n",
              "      <td>2019-10-11 16:48:25.168</td>\n",
              "      <td>3500</td>\n",
              "      <td>Yapı</td>\n",
              "      <td>42000</td>\n",
              "      <td>42000</td>\n",
              "      <td>73565</td>\n",
              "      <td>B</td>\n",
              "      <td>3</td>\n",
              "      <td>0</td>\n",
              "      <td>2019</td>\n",
              "    </tr>\n",
              "    <tr>\n",
              "      <th>2</th>\n",
              "      <td>Müşteri Hizmetleri</td>\n",
              "      <td>Müşteri Temsilcisi</td>\n",
              "      <td>B1</td>\n",
              "      <td>279905</td>\n",
              "      <td>Net</td>\n",
              "      <td>12</td>\n",
              "      <td>2019-10-11 16:48:43.345</td>\n",
              "      <td>2020</td>\n",
              "      <td>Telekomünikasyon</td>\n",
              "      <td>24240</td>\n",
              "      <td>24240</td>\n",
              "      <td>42458</td>\n",
              "      <td>B</td>\n",
              "      <td>1</td>\n",
              "      <td>0</td>\n",
              "      <td>2019</td>\n",
              "    </tr>\n",
              "    <tr>\n",
              "      <th>3</th>\n",
              "      <td>Teknik Hizmetler</td>\n",
              "      <td>Teknik Koordinatör</td>\n",
              "      <td>B4</td>\n",
              "      <td>273851</td>\n",
              "      <td>Net</td>\n",
              "      <td>12</td>\n",
              "      <td>2019-10-11 16:48:44.696</td>\n",
              "      <td>5250</td>\n",
              "      <td>Hizmet</td>\n",
              "      <td>63000</td>\n",
              "      <td>63000</td>\n",
              "      <td>110348</td>\n",
              "      <td>B</td>\n",
              "      <td>4</td>\n",
              "      <td>0</td>\n",
              "      <td>2019</td>\n",
              "    </tr>\n",
              "    <tr>\n",
              "      <th>4</th>\n",
              "      <td>Bilgi Teknolojileri</td>\n",
              "      <td>Grafik Tasarım Sorumlusu</td>\n",
              "      <td>B2</td>\n",
              "      <td>266120</td>\n",
              "      <td>Net</td>\n",
              "      <td>12</td>\n",
              "      <td>2019-10-11 16:52:26.743</td>\n",
              "      <td>3500</td>\n",
              "      <td>Sigortacılık</td>\n",
              "      <td>42000</td>\n",
              "      <td>42000</td>\n",
              "      <td>73565</td>\n",
              "      <td>B</td>\n",
              "      <td>2</td>\n",
              "      <td>0</td>\n",
              "      <td>2019</td>\n",
              "    </tr>\n",
              "    <tr>\n",
              "      <th>5</th>\n",
              "      <td>Elektrik / Elektronik</td>\n",
              "      <td>Elektronik Bakım Onarım Elemanı</td>\n",
              "      <td>M1</td>\n",
              "      <td>279546</td>\n",
              "      <td>Net</td>\n",
              "      <td>12</td>\n",
              "      <td>2019-10-11 16:52:30.392</td>\n",
              "      <td>2550</td>\n",
              "      <td>Yapı</td>\n",
              "      <td>30600</td>\n",
              "      <td>30600</td>\n",
              "      <td>53597</td>\n",
              "      <td>M</td>\n",
              "      <td>1</td>\n",
              "      <td>0</td>\n",
              "      <td>2019</td>\n",
              "    </tr>\n",
              "    <tr>\n",
              "      <th>6</th>\n",
              "      <td>Otomotiv</td>\n",
              "      <td>Galeri Müdürü</td>\n",
              "      <td>B4</td>\n",
              "      <td>316837</td>\n",
              "      <td>Net</td>\n",
              "      <td>12</td>\n",
              "      <td>2019-10-11 16:54:43.727</td>\n",
              "      <td>5000</td>\n",
              "      <td>Gıda</td>\n",
              "      <td>60000</td>\n",
              "      <td>60000</td>\n",
              "      <td>105094</td>\n",
              "      <td>B</td>\n",
              "      <td>4</td>\n",
              "      <td>0</td>\n",
              "      <td>2019</td>\n",
              "    </tr>\n",
              "    <tr>\n",
              "      <th>7</th>\n",
              "      <td>Tekstil</td>\n",
              "      <td>Varyant Sorumlusu</td>\n",
              "      <td>M3</td>\n",
              "      <td>278283</td>\n",
              "      <td>Net</td>\n",
              "      <td>12</td>\n",
              "      <td>2019-10-11 16:54:58.345</td>\n",
              "      <td>2400</td>\n",
              "      <td>Tekstil</td>\n",
              "      <td>28800</td>\n",
              "      <td>28800</td>\n",
              "      <td>50445</td>\n",
              "      <td>M</td>\n",
              "      <td>3</td>\n",
              "      <td>0</td>\n",
              "      <td>2019</td>\n",
              "    </tr>\n",
              "    <tr>\n",
              "      <th>8</th>\n",
              "      <td>Eğitim</td>\n",
              "      <td>Matematik Öğretmeni</td>\n",
              "      <td>B3</td>\n",
              "      <td>260690</td>\n",
              "      <td>Net</td>\n",
              "      <td>12</td>\n",
              "      <td>2019-10-11 16:55:05.500</td>\n",
              "      <td>3000</td>\n",
              "      <td>Ticaret</td>\n",
              "      <td>36000</td>\n",
              "      <td>36000</td>\n",
              "      <td>63056</td>\n",
              "      <td>B</td>\n",
              "      <td>3</td>\n",
              "      <td>0</td>\n",
              "      <td>2019</td>\n",
              "    </tr>\n",
              "    <tr>\n",
              "      <th>9</th>\n",
              "      <td>Depolama / Dağıtım</td>\n",
              "      <td>Dağıtım Elemanı</td>\n",
              "      <td>M1</td>\n",
              "      <td>272313</td>\n",
              "      <td>Net</td>\n",
              "      <td>12</td>\n",
              "      <td>2019-10-11 16:55:13.888</td>\n",
              "      <td>2640</td>\n",
              "      <td>Hızlı Tüketim Malları</td>\n",
              "      <td>31680</td>\n",
              "      <td>31680</td>\n",
              "      <td>55489</td>\n",
              "      <td>M</td>\n",
              "      <td>1</td>\n",
              "      <td>0</td>\n",
              "      <td>2019</td>\n",
              "    </tr>\n",
              "  </tbody>\n",
              "</table>\n",
              "</div>\n",
              "      <button class=\"colab-df-convert\" onclick=\"convertToInteractive('df-fded1f39-e845-4abd-ab31-80c765a2fd5d')\"\n",
              "              title=\"Convert this dataframe to an interactive table.\"\n",
              "              style=\"display:none;\">\n",
              "        \n",
              "  <svg xmlns=\"http://www.w3.org/2000/svg\" height=\"24px\"viewBox=\"0 0 24 24\"\n",
              "       width=\"24px\">\n",
              "    <path d=\"M0 0h24v24H0V0z\" fill=\"none\"/>\n",
              "    <path d=\"M18.56 5.44l.94 2.06.94-2.06 2.06-.94-2.06-.94-.94-2.06-.94 2.06-2.06.94zm-11 1L8.5 8.5l.94-2.06 2.06-.94-2.06-.94L8.5 2.5l-.94 2.06-2.06.94zm10 10l.94 2.06.94-2.06 2.06-.94-2.06-.94-.94-2.06-.94 2.06-2.06.94z\"/><path d=\"M17.41 7.96l-1.37-1.37c-.4-.4-.92-.59-1.43-.59-.52 0-1.04.2-1.43.59L10.3 9.45l-7.72 7.72c-.78.78-.78 2.05 0 2.83L4 21.41c.39.39.9.59 1.41.59.51 0 1.02-.2 1.41-.59l7.78-7.78 2.81-2.81c.8-.78.8-2.07 0-2.86zM5.41 20L4 18.59l7.72-7.72 1.47 1.35L5.41 20z\"/>\n",
              "  </svg>\n",
              "      </button>\n",
              "      \n",
              "  <style>\n",
              "    .colab-df-container {\n",
              "      display:flex;\n",
              "      flex-wrap:wrap;\n",
              "      gap: 12px;\n",
              "    }\n",
              "\n",
              "    .colab-df-convert {\n",
              "      background-color: #E8F0FE;\n",
              "      border: none;\n",
              "      border-radius: 50%;\n",
              "      cursor: pointer;\n",
              "      display: none;\n",
              "      fill: #1967D2;\n",
              "      height: 32px;\n",
              "      padding: 0 0 0 0;\n",
              "      width: 32px;\n",
              "    }\n",
              "\n",
              "    .colab-df-convert:hover {\n",
              "      background-color: #E2EBFA;\n",
              "      box-shadow: 0px 1px 2px rgba(60, 64, 67, 0.3), 0px 1px 3px 1px rgba(60, 64, 67, 0.15);\n",
              "      fill: #174EA6;\n",
              "    }\n",
              "\n",
              "    [theme=dark] .colab-df-convert {\n",
              "      background-color: #3B4455;\n",
              "      fill: #D2E3FC;\n",
              "    }\n",
              "\n",
              "    [theme=dark] .colab-df-convert:hover {\n",
              "      background-color: #434B5C;\n",
              "      box-shadow: 0px 1px 3px 1px rgba(0, 0, 0, 0.15);\n",
              "      filter: drop-shadow(0px 1px 2px rgba(0, 0, 0, 0.3));\n",
              "      fill: #FFFFFF;\n",
              "    }\n",
              "  </style>\n",
              "\n",
              "      <script>\n",
              "        const buttonEl =\n",
              "          document.querySelector('#df-fded1f39-e845-4abd-ab31-80c765a2fd5d button.colab-df-convert');\n",
              "        buttonEl.style.display =\n",
              "          google.colab.kernel.accessAllowed ? 'block' : 'none';\n",
              "\n",
              "        async function convertToInteractive(key) {\n",
              "          const element = document.querySelector('#df-fded1f39-e845-4abd-ab31-80c765a2fd5d');\n",
              "          const dataTable =\n",
              "            await google.colab.kernel.invokeFunction('convertToInteractive',\n",
              "                                                     [key], {});\n",
              "          if (!dataTable) return;\n",
              "\n",
              "          const docLinkHtml = 'Like what you see? Visit the ' +\n",
              "            '<a target=\"_blank\" href=https://colab.research.google.com/notebooks/data_table.ipynb>data table notebook</a>'\n",
              "            + ' to learn more about interactive tables.';\n",
              "          element.innerHTML = '';\n",
              "          dataTable['output_type'] = 'display_data';\n",
              "          await google.colab.output.renderOutput(dataTable, element);\n",
              "          const docLink = document.createElement('div');\n",
              "          docLink.innerHTML = docLinkHtml;\n",
              "          element.appendChild(docLink);\n",
              "        }\n",
              "      </script>\n",
              "    </div>\n",
              "  </div>\n",
              "  "
            ]
          },
          "metadata": {},
          "execution_count": 40
        }
      ]
    },
    {
      "cell_type": "code",
      "source": [
        "dataset.info()"
      ],
      "metadata": {
        "id": "yD1OKzkmyz-r",
        "colab": {
          "base_uri": "https://localhost:8080/"
        },
        "outputId": "b826d4f8-706b-43a6-a4f5-606ba3f34b2e"
      },
      "execution_count": 41,
      "outputs": [
        {
          "output_type": "stream",
          "name": "stdout",
          "text": [
            "<class 'pandas.core.frame.DataFrame'>\n",
            "RangeIndex: 441627 entries, 0 to 441626\n",
            "Data columns (total 16 columns):\n",
            " #   Column                Non-Null Count   Dtype   \n",
            "---  ------                --------------   -----   \n",
            " 0   classification        441627 non-null  category\n",
            " 1   positiondescription   441627 non-null  category\n",
            " 2   newpositiongroupcode  441627 non-null  category\n",
            " 3   companyId             441627 non-null  category\n",
            " 4   SalaryType            441627 non-null  category\n",
            " 5   salarycount           441627 non-null  category\n",
            " 6   creationdate          441627 non-null  object  \n",
            " 7   Price                 441627 non-null  int64   \n",
            " 8   mainsectorname        441627 non-null  category\n",
            " 9   PriceYear             441627 non-null  int64   \n",
            " 10  netsalary             441627 non-null  int64   \n",
            " 11  netsalary2022         441627 non-null  int64   \n",
            " 12  workerType            441627 non-null  category\n",
            " 13  level                 441627 non-null  category\n",
            " 14  getsBonus             441627 non-null  category\n",
            " 15  creationyear          441627 non-null  category\n",
            "dtypes: category(11), int64(4), object(1)\n",
            "memory usage: 24.9+ MB\n"
          ]
        }
      ]
    },
    {
      "cell_type": "code",
      "source": [
        "dataset.isna().any()"
      ],
      "metadata": {
        "id": "nkwF-ciVuJkk",
        "colab": {
          "base_uri": "https://localhost:8080/"
        },
        "outputId": "26bf8c87-71a8-4603-8b57-84b36eb31fcd"
      },
      "execution_count": 42,
      "outputs": [
        {
          "output_type": "execute_result",
          "data": {
            "text/plain": [
              "classification          False\n",
              "positiondescription     False\n",
              "newpositiongroupcode    False\n",
              "companyId               False\n",
              "SalaryType              False\n",
              "salarycount             False\n",
              "creationdate            False\n",
              "Price                   False\n",
              "mainsectorname          False\n",
              "PriceYear               False\n",
              "netsalary               False\n",
              "netsalary2022           False\n",
              "workerType              False\n",
              "level                   False\n",
              "getsBonus               False\n",
              "creationyear            False\n",
              "dtype: bool"
            ]
          },
          "metadata": {},
          "execution_count": 42
        }
      ]
    },
    {
      "cell_type": "code",
      "source": [
        "#len([val for val in dataset.companyId.value_counts() if val > 89])"
      ],
      "metadata": {
        "id": "6zsKfxe-nRcR"
      },
      "execution_count": 43,
      "outputs": []
    },
    {
      "cell_type": "code",
      "source": [
        "def group_company(com_id, id_mask):\n",
        "  if id_mask < 99:\n",
        "    return -2\n",
        "  else:\n",
        "    return com_id"
      ],
      "metadata": {
        "id": "fjZZJyV2MNqx"
      },
      "execution_count": 44,
      "outputs": []
    },
    {
      "cell_type": "code",
      "source": [
        "counts_col = dataset.groupby(\"companyId\")[\"companyId\"].transform(len)\n",
        "mask = counts_col\n",
        "dataset[\"mask\"] = counts_col\n",
        "dataset.companyId.value_counts()\n",
        "dataset[\"companyId\"] = dataset.apply(lambda row: group_company(row[\"companyId\"], row[\"mask\"]), axis=1)"
      ],
      "metadata": {
        "id": "r_h1lT0olv-R"
      },
      "execution_count": 45,
      "outputs": []
    },
    {
      "cell_type": "code",
      "source": [
        "#len([val for val in dataset.companyId.value_counts() if val > 100])"
      ],
      "metadata": {
        "id": "EwwBMzgVDpcF"
      },
      "execution_count": 46,
      "outputs": []
    },
    {
      "cell_type": "code",
      "source": [
        "#len(dataset[dataset[\"mask\"] > 70])"
      ],
      "metadata": {
        "id": "8AjHEbAIW64x"
      },
      "execution_count": 47,
      "outputs": []
    },
    {
      "cell_type": "code",
      "source": [
        "raw_dataset = dataset.copy()\n",
        "dataset[\"netsalary2022_log\"] = dataset.apply(lambda row: log10(row[\"netsalary2022\"]), axis=1)"
      ],
      "metadata": {
        "id": "l5R-hehle6vE"
      },
      "execution_count": 48,
      "outputs": []
    },
    {
      "cell_type": "markdown",
      "source": [
        "### Clustering"
      ],
      "metadata": {
        "id": "5ZQNtJuOc-4Z"
      }
    },
    {
      "cell_type": "code",
      "source": [
        "cluster_results = {}"
      ],
      "metadata": {
        "id": "F0ZokGpbe9yG"
      },
      "execution_count": null,
      "outputs": []
    },
    {
      "cell_type": "code",
      "source": [
        "clustering_cols = [\"classification\", \"mainsectorname\", \"workerType\", \"level\", \"companyId\"] #, \"positiondescription\"]\n",
        "df_rest = dataset[clustering_cols]\n",
        "\n",
        "df_rest[\"classification\"] = df_rest[\"classification\"].astype('string')\n",
        "#df_rest[\"positiondescription\"] = df_rest[\"positiondescription\"].astype('string')\n",
        "#df_rest[\"level\"] = df_rest[\"level\"].astype('string')\n",
        "df_rest[\"mainsectorname\"] = df_rest[\"mainsectorname\"].astype('string')\n",
        "df_rest[\"workerType\"] = df_rest[\"workerType\"].astype('string')\n",
        "df_rest[\"companyId\"] = df_rest[\"companyId\"].astype('string')"
      ],
      "metadata": {
        "id": "KCUUeOp4jJY5"
      },
      "execution_count": null,
      "outputs": []
    },
    {
      "cell_type": "code",
      "source": [
        "print(dataset[\"mainsectorname\"].nunique())\n",
        "print(dataset[\"classification\"].nunique())\n",
        "print(dataset[\"positiondescription\"].nunique())\n",
        "print(dataset[\"companyId\"].nunique())"
      ],
      "metadata": {
        "colab": {
          "base_uri": "https://localhost:8080/"
        },
        "id": "-7GH8ntci8r2",
        "outputId": "3bf480b8-3bac-4193-f08b-7392ffb77182"
      },
      "execution_count": 52,
      "outputs": [
        {
          "output_type": "stream",
          "name": "stdout",
          "text": [
            "41\n",
            "53\n",
            "9195\n",
            "592\n"
          ]
        }
      ]
    },
    {
      "cell_type": "code",
      "source": [
        "def make_clustering(data, method):\n",
        "    kmodes_params = {\n",
        "        \"n_clusters\": 6,\n",
        "        \"init\": \"Cao\",\n",
        "        \"n_init\": 15,\n",
        "        \"max_iter\": 500\n",
        "    }\n",
        "\n",
        "    if method == \"squeeze\":\n",
        "        data = np.array(data)\n",
        "\n",
        "        #cluster = [2,3,4]\n",
        "        #instance_id = 5\n",
        "        thre = 2\n",
        "        #print(similarity_instance_cluster(data,instance_id,cluster))\n",
        "        print(squeezer(data,thre))\n",
        "\n",
        "    "
      ],
      "metadata": {
        "id": "C5Xwoygk45pM"
      },
      "execution_count": null,
      "outputs": []
    },
    {
      "cell_type": "code",
      "source": [
        "def kmodes_regular(data, params):\n",
        "    if not params:\n",
        "        params = {\n",
        "            \"n_clusters\": 2\n",
        "        }\n",
        "\n",
        "    clustering_model = KModes(**params)\n",
        "    labels = clustering_model.fit_predict(df_rest)\n",
        "\n",
        "    return labels"
      ],
      "metadata": {
        "id": "K3VL6Ep8213o"
      },
      "execution_count": null,
      "outputs": []
    },
    {
      "cell_type": "code",
      "source": [
        "\"\"\"\n",
        "    This algorithm is an implementation of algorithms in the following paper:\n",
        "    \"Clustering Mixed Numeric and Categorical Data: A Cluster Ensemble \n",
        "    Approach\"\n",
        "\"\"\"\n",
        "\n",
        "def get_support(data,feature_id,feature_val,cluster):\n",
        "    \"\"\"This function compute support for a given value\n",
        "    \"\"\"\n",
        "    n_cluster_size = len(cluster)\n",
        "    num = 0\n",
        "    for j in range(n_cluster_size):\n",
        "        if data[cluster[j],feature_id] == feature_val:\n",
        "            num = num+1\n",
        "    return num\n",
        "\n",
        "def similarity_instance_cluster(data,instance_id,cluster):\n",
        "    \"\"\"This function computes the similarity between a new instance\n",
        "    data[instance_id] and a cluster specified by cluster_id\n",
        "    Parameters\n",
        "    ----------\n",
        "    data: array, shape(n_instances,n_features)\n",
        "        matrix containing original data\n",
        "    instance_id: int\n",
        "        row number of the new instance\n",
        "    cluster: list\n",
        "        a list containing the ids of instances in this cluster\n",
        "    \n",
        "    Returns\n",
        "    -------\n",
        "    sim: float\n",
        "        the similarity between the input instance and input cluster\n",
        "    \"\"\"\n",
        "    n_instances,n_features = data.shape\n",
        "    sim = 0.0\n",
        "\n",
        "    for i in range(n_features):\n",
        "        \n",
        "        unique = []\n",
        "        for j in range(len(cluster)):\n",
        "            if data[cluster[j],i] not in unique:\n",
        "                unique.append(data[cluster[j],i])\n",
        "        temp = 0\n",
        "        for j in range(len(unique)):\n",
        "            temp = temp+get_support(data,i,unique[j],cluster)\n",
        "        sim = sim+get_support(data,i,data[instance_id,i],cluster)*1.0/temp\n",
        "    return sim\n",
        "\n",
        "def squeezer(data,thre):\n",
        "    \"\"\"This function implements squeezer algorithm base on the paper \"Squezzer\n",
        "    : An Efficient Algorithm for Clustering Categorical Data\"\n",
        "    \n",
        "    Parameters\n",
        "    ----------\n",
        "    data: array, shape(n_instances,n_features)\n",
        "        the original data that need to be clustered, note that we donnot have\n",
        "        to specify the number of clusters here\n",
        "    thre: threshold used to decide if creating a new cluster is necessary\n",
        "    Returns\n",
        "    -------\n",
        "    label: list, length(n_instances)\n",
        "        label for every instance, label is a list of lists,list[i] represents\n",
        "        cluster i, list[i] is a list containing the instances ID of cluster i\n",
        "    \"\"\"\n",
        "    # Initialize the clustering result\n",
        "    label = [[0]]\n",
        "    \n",
        "    # Obtain the number of instances and features from input data\n",
        "    n_instances,n_features = data.shape\n",
        "\n",
        "    for i in range(1,n_instances):\n",
        "\n",
        "        # Current number of clusters\n",
        "        n_clusters = len(label)\n",
        "        sim = [0]*n_clusters\n",
        "        # Compute similarity between data[i,:] and each cluster\n",
        "        for j in range(n_clusters):\n",
        "            sim[j] = similarity_instance_cluster(data,i,label[j])\n",
        "        \n",
        "        sim_max = max(sim)\n",
        "\n",
        "        for j in range(n_clusters):\n",
        "            if sim[j] == sim_max:\n",
        "                sim_max_cluster_id = j\n",
        "\n",
        "        if sim_max>=thre:\n",
        "            label[sim_max_cluster_id].append(i)\n",
        "        else:\n",
        "            label.append([i])\n",
        "\n",
        "    return label\n",
        "\n",
        "def squeeze_wrapper(data, threshold):\n",
        "    data = np.array(data)\n",
        "\n",
        "    #cluster = [2,3,4]\n",
        "    #instance_id = 5\n",
        "    #print(similarity_instance_cluster(data,instance_id,cluster))\n",
        "    \n",
        "    labels = squeezer(data,threshold)\n",
        "\n",
        "    return labels"
      ],
      "metadata": {
        "id": "01OM8c-LHK_E"
      },
      "execution_count": 53,
      "outputs": []
    },
    {
      "cell_type": "code",
      "source": [
        "results = squeeze_wrapper(sqz_data, thre)\n",
        "np_res = np.array(results)\n",
        "\n",
        "new_data.insert(0, 'numid', range(0, len(new_data)))\n",
        "\n",
        "def squeeze_to_ids(df_id):\n",
        "  clust_id = 0\n",
        "  for cluster in results:\n",
        "    for instance_id in cluster:\n",
        "      if instance_id == df_id:\n",
        "        return clust_id\n",
        "    \n",
        "    clust_id += 1\n",
        "  \n",
        "  return -1\n",
        "\n",
        "new_data[\"cluster_id\"] = new_data.apply(lambda row: squeeze_to_ids(row[\"numid\"]), axis=1)"
      ],
      "metadata": {
        "id": "4V4taJ3jHQ8w"
      },
      "execution_count": null,
      "outputs": []
    },
    {
      "cell_type": "code",
      "source": [
        "def squeezer_elbow(data, thresholds):\n",
        "    results = {\n",
        "        #\"cost\": [],\n",
        "        \"db\": [],\n",
        "        \"ch\": []\n",
        "    }\n",
        "\n",
        "    le = LabelEncoder()\n",
        "    gatti = [\"classification\", \"mainsectorname\", \"workerType\", \"companyId\"] #, \"positiondescription\"]\n",
        "    encoded_df = data.copy()\n",
        "\n",
        "    for gatto in gatti:\n",
        "        encoded_df[gatto] = le.fit_transform(encoded_df[gatto])\n",
        "\n",
        "    scaler = MinMaxScaler()\n",
        "    encoded_df = scaler.fit_transform(encoded_df)\n",
        "\n",
        "    #K_lar = range(2, 50)  # 1 den 5 e, 6 dahil degil\n",
        "    for i in thresholds:    # her bir k degeri icin\n",
        "        # Modelimizi yaratalim\n",
        "        labels = squeeze_wrapper(data, i)   \n",
        "        \n",
        "        #labels = model.fit_predict(data) \n",
        "        #results[\"cost\"].append(model.cost_)  # her bir neticeyi bu listeye ekleyelim\n",
        "\n",
        "        db_score = davies_bouldin_score(encoded_df, labels)\n",
        "        results[\"db\"].append(db_score)\n",
        "        \n",
        "        ch_score = calinski_harabasz_score(encoded_df, labels)\n",
        "        results[\"ch\"].append(ch_score)\n",
        "\n",
        "        print(f\"Results obtained for threshold: {i}\")\n",
        "\n",
        "\n",
        "    #plt.plot(k_vals, results[\"cost\"], marker='o')\n",
        "    #plt.xlabel('Küme sayısı (k)')\n",
        "    #plt.ylabel('Costs')\n",
        "    #plt.show()\n",
        "\n",
        "    plt.plot(thresholds, results[\"db\"], marker='o')\n",
        "    plt.xlabel('Küme sayısı (k)')\n",
        "    plt.ylabel('DB Scores')\n",
        "    plt.show()\n",
        "\n",
        "    plt.plot(thresholds, results[\"ch\"], marker='o')\n",
        "    plt.xlabel('Küme sayısı (k)')\n",
        "    plt.ylabel('CH Scores')\n",
        "    plt.show()\n",
        "\n",
        "    return results"
      ],
      "metadata": {
        "id": "E-Toh6FFMxKj"
      },
      "execution_count": 56,
      "outputs": []
    },
    {
      "cell_type": "code",
      "source": [
        "th_range = np.arange(1, 4, 1)\n",
        "squeezer_elbow(df_rest, th_range)"
      ],
      "metadata": {
        "id": "iyloxe-lP7Zz"
      },
      "execution_count": null,
      "outputs": []
    },
    {
      "cell_type": "code",
      "source": [
        "len(np.arange(0.25, 5.25, 0.25))"
      ],
      "metadata": {
        "colab": {
          "base_uri": "https://localhost:8080/"
        },
        "id": "oTwz2uRuQbI4",
        "outputId": "9d2e5e4c-f37c-4414-a366-0a4b169aee85"
      },
      "execution_count": 33,
      "outputs": [
        {
          "output_type": "execute_result",
          "data": {
            "text/plain": [
              "array([0.25, 0.5 , 0.75, 1.  , 1.25, 1.5 , 1.75, 2.  , 2.25, 2.5 , 2.75,\n",
              "       3.  , 3.25, 3.5 , 3.75, 4.  , 4.25, 4.5 , 4.75, 5.  ])"
            ]
          },
          "metadata": {},
          "execution_count": 33
        }
      ]
    },
    {
      "cell_type": "code",
      "source": [
        "def kmodes_elbow(data, k_vals):\n",
        "    results = {\n",
        "        \"cost\": [],\n",
        "        \"db\": [],\n",
        "        \"ch\": []\n",
        "    }\n",
        "\n",
        "    le = LabelEncoder()\n",
        "    gatti = [\"classification\", \"mainsectorname\", \"workerType\", \"companyId\", \"positiondescription\"]\n",
        "    encoded_df = data.copy()\n",
        "\n",
        "    for gatto in gatti:\n",
        "        encoded_df[gatto] = le.fit_transform(encoded_df[gatto])\n",
        "\n",
        "    scaler = MinMaxScaler()\n",
        "    encoded_df = scaler.fit_transform(encoded_df)\n",
        "\n",
        "    #K_lar = range(2, 50)  # 1 den 5 e, 6 dahil degil\n",
        "    for i in k_vals:    # her bir k degeri icin\n",
        "        # Modelimizi yaratalim\n",
        "        model = KModes(n_clusters=i,     # sirayla 1,2,3,4,5\n",
        "                       init='Cao',   # algoritma secimi\n",
        "                       n_init=15,\n",
        "                       # verbose=1,\n",
        "                       # n_jobs=-1,        #-1 hepsi\n",
        "                       random_state=1,     # rastgele sayi ureteci\n",
        "                       max_iter=500)   \n",
        "        \n",
        "        labels = model.fit_predict(data) \n",
        "        results[\"cost\"].append(model.cost_)  # her bir neticeyi bu listeye ekleyelim\n",
        "\n",
        "        db_score = davies_bouldin_score(encoded_df, labels)\n",
        "        results[\"db\"].append(db_score)\n",
        "        \n",
        "        ch_score = calinski_harabasz_score(encoded_df, labels)\n",
        "        results[\"ch\"].append(ch_score)\n",
        "\n",
        "\n",
        "    plt.plot(k_vals, results[\"cost\"], marker='o')\n",
        "    plt.xlabel('Küme sayısı (k)')\n",
        "    plt.ylabel('Costs')\n",
        "    plt.show()\n",
        "\n",
        "    plt.plot(k_vals, results[\"db\"], marker='o')\n",
        "    plt.xlabel('Küme sayısı (k)')\n",
        "    plt.ylabel('DB Scores')\n",
        "    plt.show()\n",
        "\n",
        "    plt.plot(k_vals, results[\"ch\"], marker='o')\n",
        "    plt.xlabel('Küme sayısı (k)')\n",
        "    plt.ylabel('CH Scores')\n",
        "    plt.show()\n",
        "\n",
        "    return results"
      ],
      "metadata": {
        "id": "4ZiSr3PhjY_X"
      },
      "execution_count": null,
      "outputs": []
    },
    {
      "cell_type": "code",
      "source": [
        "kmodes_params = {\n",
        "    \"n_clusters\": 6,\n",
        "    \"init\": \"Cao\",\n",
        "    \"n_init\": 15,\n",
        "    \"max_iter\": 500\n",
        "}"
      ],
      "metadata": {
        "id": "M_JZrDAsSRNT"
      },
      "execution_count": null,
      "outputs": []
    },
    {
      "cell_type": "code",
      "source": [
        "clustering_labels = kmodes_regular(df_rest, kmodes_params)"
      ],
      "metadata": {
        "id": "W-moFsL1UWpv"
      },
      "execution_count": null,
      "outputs": []
    },
    {
      "cell_type": "code",
      "source": [
        "dataset[\"kmodes_clusters\"] = clustering_labels"
      ],
      "metadata": {
        "id": "YBwFZervUqmV"
      },
      "execution_count": null,
      "outputs": []
    },
    {
      "cell_type": "code",
      "source": [
        "linreg_model = LinearRegression()\n",
        "\n",
        "xgb_model = XGBRegressor(objective = 'reg:squarederror',\n",
        "                     enable_categorical = True,\n",
        "                     n_estimators=1000, \n",
        "                     max_depth=7, \n",
        "                     eta=0.3, #learning_rate = 0.1\n",
        "                     min_child_weight = 6,\n",
        "                     gamma = 0.1,\n",
        "                     subsample = 0.65,\n",
        "                     colsample_bytree=0.7,\n",
        "                     reg_alpha = 0.01,\n",
        "                     tree_method=\"gpu_hist\",\n",
        "                     verbose=True)\n",
        "\n",
        "mlp_model = MLPRegressor(hidden_layer_sizes=(32, 32, 32),\n",
        "                     #solver=\"sgd\", learning_rate=\"adaptive\",\n",
        "                     solver=\"adam\",\n",
        "                     #learning_rate_init=0.0001,\n",
        "                     learning_rate_init=0.0005,\n",
        "                     activation=\"relu\",\n",
        "                     alpha=0.1,\n",
        "                     #batch_size=128,\n",
        "                     #random_state=42,\n",
        "                     max_iter=40,\n",
        "                     n_iter_no_change=5,\n",
        "                     verbose=True)\n",
        "\n",
        "models = {\n",
        "    \"xgboost\": xgb_model,\n",
        "    \"mlp\": mlp_model,\n",
        "    \"linreg\": linreg_model\n",
        "}"
      ],
      "metadata": {
        "id": "xNgt1ZSnBWrv"
      },
      "execution_count": null,
      "outputs": []
    },
    {
      "cell_type": "code",
      "source": [
        "def pred_scores(predictions, y_real):\n",
        "  res_list = []\n",
        "  \n",
        "  r2_val = r2_score(y_real, predictions)\n",
        "  print(f\"R-squared score: {round(r2_val, 6)}\")\n",
        "  res_list.append(r2_val)\n",
        "\n",
        "  rmse = np.sqrt(mean_squared_error(y_real, predictions))\n",
        "  print(f\"RMSE: {round(rmse, 6)}\")\n",
        "  res_list.append(rmse)\n",
        "\n",
        "  mae = mean_absolute_error(y_real, predictions)\n",
        "  print(f\"MAE: {round(mae, 6)}\")\n",
        "  res_list.append(mae)\n",
        "\n",
        "  mape = mean_absolute_percentage_error(y_real, predictions) * 100\n",
        "  print(f\"MAPE: {round(mape, 6)} %\")\n",
        "  res_list.append(mape)\n",
        "\n",
        "  return res_list"
      ],
      "metadata": {
        "id": "DZiZhQ9nDOGL"
      },
      "execution_count": null,
      "outputs": []
    },
    {
      "cell_type": "code",
      "source": [
        "def test_models(models, data):\n",
        "    all_results = []\n",
        "\n",
        "    # Target - Predictor Variable Split\n",
        "    #df = dataset.drop(dataset[dataset[\"kmodes_cluster\"] == 1].index) #dataset[dataset[\"kmodes_cluster\"] == 11]\n",
        "    #df = df.drop(df[df[\"kmodes_cluster\"] == 3].index)\n",
        "\n",
        "    df = data\n",
        "    df_target = df[\"netsalary2022_log\"]\n",
        "    #feature_cols = [\"classification\", \"level\", \"mainsectorname\", \"companyId\", \"SalaryType\", \"workerType\", \"getsBonus\"]\n",
        "    feature_cols = [\"classification\", \"level\", \"mainsectorname\", \"workerType\", \"companyId\", \"salarycount\"]#, \"SalaryType\", \"creationyear\"]\n",
        "    ordinal_cols = [\"level\", \"salarycount\"]#, \"creationyear\"]\n",
        "    nominal_cols = [\"classification\", \"mainsectorname\", \"workerType\", \"companyId\"]#, \"SalaryType\"]\n",
        "    df_rest = df[feature_cols]\n",
        "\n",
        "    # OneHot and Ordinal Encoders\n",
        "    ohe = OneHotEncoder(handle_unknown=\"ignore\", sparse=False)\n",
        "    ode = OrdinalEncoder(handle_unknown=\"use_encoded_value\", unknown_value=-1)\n",
        "    column_transformer = make_column_transformer((ohe, nominal_cols), (ode, ordinal_cols))\n",
        "\n",
        "    # Train - Test Split\n",
        "    X_train, X_test, Y_train, Y_test = train_test_split(df_rest, df_target, test_size = 0.2)#, random_state = 42)\n",
        "\n",
        "    # MinMax Scaling for Target Variable on Training Data\n",
        "    scaler = MinMaxScaler()\n",
        "    scaler.fit(np.array(Y_train).reshape(-1, 1))\n",
        "    temp_y = scaler.transform(np.array(Y_train).reshape(-1, 1))\n",
        "    Y_train = pd.DataFrame(temp_y, columns=[\"netsalary2022_log\"])\n",
        "\n",
        "    for model_name, model in models.items():\n",
        "        model_pipeline = make_pipeline(column_transformer, model)\n",
        "        model_pipeline.fit(X_train, Y_train)\n",
        "\n",
        "        predictions = model_pipeline.predict(X_test)\n",
        "        predictions = scaler.inverse_transform(predictions.reshape(-1, 1)).flatten()\n",
        "        Y_test = np.array(Y_test).flatten()\n",
        "\n",
        "        print(f\"Results for {model_name} :\")\n",
        "        results = pred_scores(predictions, Y_test)\n",
        "\n",
        "        results.append(model_name)\n",
        "\n",
        "        all_results.append(results)\n",
        "\n",
        "    return all_results"
      ],
      "metadata": {
        "id": "Qq2m8pCZDyqi"
      },
      "execution_count": null,
      "outputs": []
    },
    {
      "cell_type": "code",
      "source": [
        "cluster_res = []\n",
        "\n",
        "for cluster_id in dataset[\"kmodes_clusters\"].unique():\n",
        "    new_res = [cluster_id]\n",
        "    new_data = dataset[dataset[\"kmodes_clusters\"] == cluster_id]\n",
        "\n",
        "    test_results = test_models(models, new_data)\n",
        "\n",
        "    for model in test_results:\n",
        "        new_res.append(model[0])\n",
        "        new_res.append(model[1])\n",
        "        new_res.append(model[2])\n",
        "        new_res.append(model[3])\n",
        "\n",
        "    cluster_res.append(new_res)"
      ],
      "metadata": {
        "colab": {
          "base_uri": "https://localhost:8080/"
        },
        "id": "z2OZwB6WW6Hv",
        "outputId": "f3f535dc-9cee-4521-9427-3b3af5037a5c"
      },
      "execution_count": null,
      "outputs": [
        {
          "output_type": "stream",
          "name": "stdout",
          "text": [
            "Results for xgboost :\n",
            "R-squared score: 0.396587\n",
            "RMSE: 0.192835\n",
            "MAE: 0.141252\n",
            "MAPE: 2.806721 %\n"
          ]
        },
        {
          "output_type": "stream",
          "name": "stderr",
          "text": [
            "/usr/local/lib/python3.7/dist-packages/sklearn/neural_network/_multilayer_perceptron.py:1599: DataConversionWarning: A column-vector y was passed when a 1d array was expected. Please change the shape of y to (n_samples, ), for example using ravel().\n",
            "  y = column_or_1d(y, warn=True)\n"
          ]
        },
        {
          "output_type": "stream",
          "name": "stdout",
          "text": [
            "Iteration 1, loss = 0.01426399\n",
            "Iteration 2, loss = 0.00731793\n",
            "Iteration 3, loss = 0.00656702\n",
            "Iteration 4, loss = 0.00630998\n",
            "Iteration 5, loss = 0.00619419\n",
            "Iteration 6, loss = 0.00612690\n",
            "Iteration 7, loss = 0.00609711\n",
            "Iteration 8, loss = 0.00608538\n",
            "Iteration 9, loss = 0.00606895\n",
            "Iteration 10, loss = 0.00606565\n",
            "Iteration 11, loss = 0.00605945\n",
            "Training loss did not improve more than tol=0.000100 for 5 consecutive epochs. Stopping.\n",
            "Results for mlp :\n",
            "R-squared score: 0.348936\n",
            "RMSE: 0.200305\n",
            "MAE: 0.151291\n",
            "MAPE: 3.016218 %\n",
            "Results for linreg :\n",
            "R-squared score: -108357994137374.67\n",
            "RMSE: 2584103.346599\n",
            "MAE: 23992.255921\n",
            "MAPE: 473403.729187 %\n",
            "Results for xgboost :\n",
            "R-squared score: 0.38431\n",
            "RMSE: 0.17165\n",
            "MAE: 0.113397\n",
            "MAPE: 2.285145 %\n"
          ]
        },
        {
          "output_type": "stream",
          "name": "stderr",
          "text": [
            "/usr/local/lib/python3.7/dist-packages/sklearn/neural_network/_multilayer_perceptron.py:1599: DataConversionWarning: A column-vector y was passed when a 1d array was expected. Please change the shape of y to (n_samples, ), for example using ravel().\n",
            "  y = column_or_1d(y, warn=True)\n"
          ]
        },
        {
          "output_type": "stream",
          "name": "stdout",
          "text": [
            "Iteration 1, loss = 0.01880911\n",
            "Iteration 2, loss = 0.00934210\n",
            "Iteration 3, loss = 0.00777229\n",
            "Iteration 4, loss = 0.00703683\n",
            "Iteration 5, loss = 0.00660414\n",
            "Iteration 6, loss = 0.00633572\n",
            "Iteration 7, loss = 0.00617020\n",
            "Iteration 8, loss = 0.00604840\n",
            "Iteration 9, loss = 0.00598424\n",
            "Iteration 10, loss = 0.00594002\n",
            "Iteration 11, loss = 0.00590650\n",
            "Iteration 12, loss = 0.00588691\n",
            "Iteration 13, loss = 0.00587860\n",
            "Iteration 14, loss = 0.00586263\n",
            "Training loss did not improve more than tol=0.000100 for 5 consecutive epochs. Stopping.\n",
            "Results for mlp :\n",
            "R-squared score: 0.333583\n",
            "RMSE: 0.178581\n",
            "MAE: 0.12468\n",
            "MAPE: 2.520999 %\n",
            "Results for linreg :\n",
            "R-squared score: 0.353559\n",
            "RMSE: 0.175884\n",
            "MAE: 0.117201\n",
            "MAPE: 2.360524 %\n",
            "Results for xgboost :\n",
            "R-squared score: 0.350967\n",
            "RMSE: 0.172457\n",
            "MAE: 0.122103\n",
            "MAPE: 2.457424 %\n"
          ]
        },
        {
          "output_type": "stream",
          "name": "stderr",
          "text": [
            "/usr/local/lib/python3.7/dist-packages/sklearn/neural_network/_multilayer_perceptron.py:1599: DataConversionWarning: A column-vector y was passed when a 1d array was expected. Please change the shape of y to (n_samples, ), for example using ravel().\n",
            "  y = column_or_1d(y, warn=True)\n"
          ]
        },
        {
          "output_type": "stream",
          "name": "stdout",
          "text": [
            "Iteration 1, loss = 0.10237396\n",
            "Iteration 2, loss = 0.02388751\n",
            "Iteration 3, loss = 0.01922557\n",
            "Iteration 4, loss = 0.01681520\n",
            "Iteration 5, loss = 0.01533119\n",
            "Iteration 6, loss = 0.01433405\n",
            "Iteration 7, loss = 0.01361386\n",
            "Iteration 8, loss = 0.01307376\n",
            "Iteration 9, loss = 0.01263860\n",
            "Iteration 10, loss = 0.01227251\n",
            "Iteration 11, loss = 0.01196407\n",
            "Iteration 12, loss = 0.01168931\n",
            "Iteration 13, loss = 0.01144269\n",
            "Iteration 14, loss = 0.01121932\n",
            "Iteration 15, loss = 0.01101424\n",
            "Iteration 16, loss = 0.01084076\n",
            "Iteration 17, loss = 0.01065501\n",
            "Iteration 18, loss = 0.01048042\n",
            "Iteration 19, loss = 0.01032161\n",
            "Iteration 20, loss = 0.01017940\n",
            "Iteration 21, loss = 0.01004175\n",
            "Iteration 22, loss = 0.00992013\n",
            "Iteration 23, loss = 0.00979170\n",
            "Iteration 24, loss = 0.00968019\n",
            "Iteration 25, loss = 0.00958910\n",
            "Iteration 26, loss = 0.00946856\n",
            "Iteration 27, loss = 0.00936808\n",
            "Iteration 28, loss = 0.00931899\n",
            "Iteration 29, loss = 0.00918694\n",
            "Iteration 30, loss = 0.00911109\n",
            "Iteration 31, loss = 0.00904112\n",
            "Iteration 32, loss = 0.00894446\n",
            "Iteration 33, loss = 0.00889640\n",
            "Iteration 34, loss = 0.00880125\n",
            "Iteration 35, loss = 0.00874457\n",
            "Training loss did not improve more than tol=0.000100 for 5 consecutive epochs. Stopping.\n",
            "Results for mlp :\n",
            "R-squared score: 0.333684\n",
            "RMSE: 0.174738\n",
            "MAE: 0.122513\n",
            "MAPE: 2.457297 %\n",
            "Results for linreg :\n",
            "R-squared score: -8.309217323454612e+18\n",
            "RMSE: 617060072.197516\n",
            "MAE: 30667787.023162\n",
            "MAPE: 622947674.053545 %\n",
            "Results for xgboost :\n",
            "R-squared score: 0.3004\n",
            "RMSE: 0.206941\n",
            "MAE: 0.160378\n",
            "MAPE: 3.170471 %\n"
          ]
        },
        {
          "output_type": "stream",
          "name": "stderr",
          "text": [
            "/usr/local/lib/python3.7/dist-packages/sklearn/neural_network/_multilayer_perceptron.py:1599: DataConversionWarning: A column-vector y was passed when a 1d array was expected. Please change the shape of y to (n_samples, ), for example using ravel().\n",
            "  y = column_or_1d(y, warn=True)\n"
          ]
        },
        {
          "output_type": "stream",
          "name": "stdout",
          "text": [
            "Iteration 1, loss = 0.06095197\n",
            "Iteration 2, loss = 0.02263089\n",
            "Iteration 3, loss = 0.01820321\n",
            "Iteration 4, loss = 0.01599523\n",
            "Iteration 5, loss = 0.01470572\n",
            "Iteration 6, loss = 0.01387301\n",
            "Iteration 7, loss = 0.01331235\n",
            "Iteration 8, loss = 0.01289737\n",
            "Iteration 9, loss = 0.01257341\n",
            "Iteration 10, loss = 0.01229306\n",
            "Iteration 11, loss = 0.01205195\n",
            "Iteration 12, loss = 0.01184969\n",
            "Iteration 13, loss = 0.01167601\n",
            "Iteration 14, loss = 0.01149982\n",
            "Iteration 15, loss = 0.01135667\n",
            "Iteration 16, loss = 0.01122806\n",
            "Iteration 17, loss = 0.01107512\n",
            "Iteration 18, loss = 0.01096930\n",
            "Iteration 19, loss = 0.01083972\n",
            "Iteration 20, loss = 0.01073989\n",
            "Iteration 21, loss = 0.01065111\n",
            "Iteration 22, loss = 0.01054917\n",
            "Iteration 23, loss = 0.01048003\n",
            "Iteration 24, loss = 0.01039222\n",
            "Iteration 25, loss = 0.01030920\n",
            "Iteration 26, loss = 0.01028593\n",
            "Iteration 27, loss = 0.01018865\n",
            "Iteration 28, loss = 0.01012585\n",
            "Training loss did not improve more than tol=0.000100 for 5 consecutive epochs. Stopping.\n",
            "Results for mlp :\n",
            "R-squared score: 0.287432\n",
            "RMSE: 0.20885\n",
            "MAE: 0.162439\n",
            "MAPE: 3.200366 %\n",
            "Results for linreg :\n",
            "R-squared score: -53637965190324.555\n",
            "RMSE: 1812000.910638\n",
            "MAE: 103090.56167\n",
            "MAPE: 2055534.500612 %\n",
            "Results for xgboost :\n",
            "R-squared score: 0.35891\n",
            "RMSE: 0.1983\n",
            "MAE: 0.146371\n",
            "MAPE: 2.906604 %\n"
          ]
        },
        {
          "output_type": "stream",
          "name": "stderr",
          "text": [
            "/usr/local/lib/python3.7/dist-packages/sklearn/neural_network/_multilayer_perceptron.py:1599: DataConversionWarning: A column-vector y was passed when a 1d array was expected. Please change the shape of y to (n_samples, ), for example using ravel().\n",
            "  y = column_or_1d(y, warn=True)\n"
          ]
        },
        {
          "output_type": "stream",
          "name": "stdout",
          "text": [
            "Iteration 1, loss = 0.02301659\n",
            "Iteration 2, loss = 0.01165511\n",
            "Iteration 3, loss = 0.00907055\n",
            "Iteration 4, loss = 0.00814877\n",
            "Iteration 5, loss = 0.00776342\n",
            "Iteration 6, loss = 0.00754566\n",
            "Iteration 7, loss = 0.00740615\n",
            "Iteration 8, loss = 0.00731414\n",
            "Iteration 9, loss = 0.00725033\n",
            "Iteration 10, loss = 0.00719056\n",
            "Iteration 11, loss = 0.00715635\n",
            "Iteration 12, loss = 0.00711641\n",
            "Iteration 13, loss = 0.00710173\n",
            "Training loss did not improve more than tol=0.000100 for 5 consecutive epochs. Stopping.\n",
            "Results for mlp :\n",
            "R-squared score: 0.338599\n",
            "RMSE: 0.201417\n",
            "MAE: 0.151503\n",
            "MAPE: 3.011498 %\n",
            "Results for linreg :\n",
            "R-squared score: -1.793492278892873e+17\n",
            "RMSE: 104884907.435603\n",
            "MAE: 1395677.016403\n",
            "MAPE: 26837678.928173 %\n",
            "Results for xgboost :\n",
            "R-squared score: 0.33258\n",
            "RMSE: 0.170709\n",
            "MAE: 0.128064\n",
            "MAPE: 2.565305 %\n"
          ]
        },
        {
          "output_type": "stream",
          "name": "stderr",
          "text": [
            "/usr/local/lib/python3.7/dist-packages/sklearn/neural_network/_multilayer_perceptron.py:1599: DataConversionWarning: A column-vector y was passed when a 1d array was expected. Please change the shape of y to (n_samples, ), for example using ravel().\n",
            "  y = column_or_1d(y, warn=True)\n"
          ]
        },
        {
          "output_type": "stream",
          "name": "stdout",
          "text": [
            "Iteration 1, loss = 0.04107939\n",
            "Iteration 2, loss = 0.02086694\n",
            "Iteration 3, loss = 0.01712788\n",
            "Iteration 4, loss = 0.01509694\n",
            "Iteration 5, loss = 0.01372780\n",
            "Iteration 6, loss = 0.01275062\n",
            "Iteration 7, loss = 0.01201098\n",
            "Iteration 8, loss = 0.01141944\n",
            "Iteration 9, loss = 0.01094195\n",
            "Iteration 10, loss = 0.01054111\n",
            "Iteration 11, loss = 0.01019864\n",
            "Iteration 12, loss = 0.00988920\n",
            "Iteration 13, loss = 0.00962880\n",
            "Iteration 14, loss = 0.00940330\n",
            "Iteration 15, loss = 0.00917847\n",
            "Iteration 16, loss = 0.00900971\n",
            "Iteration 17, loss = 0.00884766\n",
            "Iteration 18, loss = 0.00870033\n",
            "Iteration 19, loss = 0.00856592\n",
            "Iteration 20, loss = 0.00842863\n",
            "Iteration 21, loss = 0.00831200\n",
            "Iteration 22, loss = 0.00822775\n",
            "Iteration 23, loss = 0.00812697\n",
            "Iteration 24, loss = 0.00805567\n",
            "Iteration 25, loss = 0.00798347\n",
            "Iteration 26, loss = 0.00790371\n",
            "Iteration 27, loss = 0.00783442\n",
            "Iteration 28, loss = 0.00778910\n",
            "Iteration 29, loss = 0.00773546\n",
            "Training loss did not improve more than tol=0.000100 for 5 consecutive epochs. Stopping.\n",
            "Results for mlp :\n",
            "R-squared score: 0.323514\n",
            "RMSE: 0.171864\n",
            "MAE: 0.129681\n",
            "MAPE: 2.595944 %\n",
            "Results for linreg :\n",
            "R-squared score: -237704098449176.88\n",
            "RMSE: 3221623.428778\n",
            "MAE: 256456.581273\n",
            "MAPE: 5177972.42326 %\n"
          ]
        }
      ]
    },
    {
      "cell_type": "code",
      "source": [
        "deneme_df = pd.DataFrame(cluster_res)"
      ],
      "metadata": {
        "id": "Xer2CirgduK_"
      },
      "execution_count": null,
      "outputs": []
    },
    {
      "cell_type": "code",
      "source": [
        "deneme_df"
      ],
      "metadata": {
        "colab": {
          "base_uri": "https://localhost:8080/",
          "height": 302
        },
        "id": "wAPcLSr_d78u",
        "outputId": "e5c8a36e-89c5-40af-aa43-9f8a7ee9d405"
      },
      "execution_count": null,
      "outputs": [
        {
          "output_type": "execute_result",
          "data": {
            "text/plain": [
              "   0         1         2         3         4         5         6         7   \\\n",
              "0   0  0.396587  0.192835  0.141252  2.806721  0.348936  0.200305  0.151291   \n",
              "1   1  0.384310  0.171650  0.113397  2.285145  0.333583  0.178581  0.124680   \n",
              "2   4  0.350967  0.172457  0.122103  2.457424  0.333684  0.174738  0.122513   \n",
              "3   5  0.300400  0.206941  0.160378  3.170471  0.287432  0.208850  0.162439   \n",
              "4   2  0.358910  0.198300  0.146371  2.906604  0.338599  0.201417  0.151503   \n",
              "5   3  0.332580  0.170709  0.128064  2.565305  0.323514  0.171864  0.129681   \n",
              "\n",
              "         8             9             10            11            12  \n",
              "0  3.016218 -1.083580e+14  2.584103e+06  2.399226e+04  4.734037e+05  \n",
              "1  2.520999  3.535588e-01  1.758838e-01  1.172007e-01  2.360524e+00  \n",
              "2  2.457297 -8.309217e+18  6.170601e+08  3.066779e+07  6.229477e+08  \n",
              "3  3.200366 -5.363797e+13  1.812001e+06  1.030906e+05  2.055535e+06  \n",
              "4  3.011498 -1.793492e+17  1.048849e+08  1.395677e+06  2.683768e+07  \n",
              "5  2.595944 -2.377041e+14  3.221623e+06  2.564566e+05  5.177972e+06  "
            ],
            "text/html": [
              "\n",
              "  <div id=\"df-b0a7582a-6c39-4c9e-bc36-d8a11f26dfdf\">\n",
              "    <div class=\"colab-df-container\">\n",
              "      <div>\n",
              "<style scoped>\n",
              "    .dataframe tbody tr th:only-of-type {\n",
              "        vertical-align: middle;\n",
              "    }\n",
              "\n",
              "    .dataframe tbody tr th {\n",
              "        vertical-align: top;\n",
              "    }\n",
              "\n",
              "    .dataframe thead th {\n",
              "        text-align: right;\n",
              "    }\n",
              "</style>\n",
              "<table border=\"1\" class=\"dataframe\">\n",
              "  <thead>\n",
              "    <tr style=\"text-align: right;\">\n",
              "      <th></th>\n",
              "      <th>0</th>\n",
              "      <th>1</th>\n",
              "      <th>2</th>\n",
              "      <th>3</th>\n",
              "      <th>4</th>\n",
              "      <th>5</th>\n",
              "      <th>6</th>\n",
              "      <th>7</th>\n",
              "      <th>8</th>\n",
              "      <th>9</th>\n",
              "      <th>10</th>\n",
              "      <th>11</th>\n",
              "      <th>12</th>\n",
              "    </tr>\n",
              "  </thead>\n",
              "  <tbody>\n",
              "    <tr>\n",
              "      <th>0</th>\n",
              "      <td>0</td>\n",
              "      <td>0.396587</td>\n",
              "      <td>0.192835</td>\n",
              "      <td>0.141252</td>\n",
              "      <td>2.806721</td>\n",
              "      <td>0.348936</td>\n",
              "      <td>0.200305</td>\n",
              "      <td>0.151291</td>\n",
              "      <td>3.016218</td>\n",
              "      <td>-1.083580e+14</td>\n",
              "      <td>2.584103e+06</td>\n",
              "      <td>2.399226e+04</td>\n",
              "      <td>4.734037e+05</td>\n",
              "    </tr>\n",
              "    <tr>\n",
              "      <th>1</th>\n",
              "      <td>1</td>\n",
              "      <td>0.384310</td>\n",
              "      <td>0.171650</td>\n",
              "      <td>0.113397</td>\n",
              "      <td>2.285145</td>\n",
              "      <td>0.333583</td>\n",
              "      <td>0.178581</td>\n",
              "      <td>0.124680</td>\n",
              "      <td>2.520999</td>\n",
              "      <td>3.535588e-01</td>\n",
              "      <td>1.758838e-01</td>\n",
              "      <td>1.172007e-01</td>\n",
              "      <td>2.360524e+00</td>\n",
              "    </tr>\n",
              "    <tr>\n",
              "      <th>2</th>\n",
              "      <td>4</td>\n",
              "      <td>0.350967</td>\n",
              "      <td>0.172457</td>\n",
              "      <td>0.122103</td>\n",
              "      <td>2.457424</td>\n",
              "      <td>0.333684</td>\n",
              "      <td>0.174738</td>\n",
              "      <td>0.122513</td>\n",
              "      <td>2.457297</td>\n",
              "      <td>-8.309217e+18</td>\n",
              "      <td>6.170601e+08</td>\n",
              "      <td>3.066779e+07</td>\n",
              "      <td>6.229477e+08</td>\n",
              "    </tr>\n",
              "    <tr>\n",
              "      <th>3</th>\n",
              "      <td>5</td>\n",
              "      <td>0.300400</td>\n",
              "      <td>0.206941</td>\n",
              "      <td>0.160378</td>\n",
              "      <td>3.170471</td>\n",
              "      <td>0.287432</td>\n",
              "      <td>0.208850</td>\n",
              "      <td>0.162439</td>\n",
              "      <td>3.200366</td>\n",
              "      <td>-5.363797e+13</td>\n",
              "      <td>1.812001e+06</td>\n",
              "      <td>1.030906e+05</td>\n",
              "      <td>2.055535e+06</td>\n",
              "    </tr>\n",
              "    <tr>\n",
              "      <th>4</th>\n",
              "      <td>2</td>\n",
              "      <td>0.358910</td>\n",
              "      <td>0.198300</td>\n",
              "      <td>0.146371</td>\n",
              "      <td>2.906604</td>\n",
              "      <td>0.338599</td>\n",
              "      <td>0.201417</td>\n",
              "      <td>0.151503</td>\n",
              "      <td>3.011498</td>\n",
              "      <td>-1.793492e+17</td>\n",
              "      <td>1.048849e+08</td>\n",
              "      <td>1.395677e+06</td>\n",
              "      <td>2.683768e+07</td>\n",
              "    </tr>\n",
              "    <tr>\n",
              "      <th>5</th>\n",
              "      <td>3</td>\n",
              "      <td>0.332580</td>\n",
              "      <td>0.170709</td>\n",
              "      <td>0.128064</td>\n",
              "      <td>2.565305</td>\n",
              "      <td>0.323514</td>\n",
              "      <td>0.171864</td>\n",
              "      <td>0.129681</td>\n",
              "      <td>2.595944</td>\n",
              "      <td>-2.377041e+14</td>\n",
              "      <td>3.221623e+06</td>\n",
              "      <td>2.564566e+05</td>\n",
              "      <td>5.177972e+06</td>\n",
              "    </tr>\n",
              "  </tbody>\n",
              "</table>\n",
              "</div>\n",
              "      <button class=\"colab-df-convert\" onclick=\"convertToInteractive('df-b0a7582a-6c39-4c9e-bc36-d8a11f26dfdf')\"\n",
              "              title=\"Convert this dataframe to an interactive table.\"\n",
              "              style=\"display:none;\">\n",
              "        \n",
              "  <svg xmlns=\"http://www.w3.org/2000/svg\" height=\"24px\"viewBox=\"0 0 24 24\"\n",
              "       width=\"24px\">\n",
              "    <path d=\"M0 0h24v24H0V0z\" fill=\"none\"/>\n",
              "    <path d=\"M18.56 5.44l.94 2.06.94-2.06 2.06-.94-2.06-.94-.94-2.06-.94 2.06-2.06.94zm-11 1L8.5 8.5l.94-2.06 2.06-.94-2.06-.94L8.5 2.5l-.94 2.06-2.06.94zm10 10l.94 2.06.94-2.06 2.06-.94-2.06-.94-.94-2.06-.94 2.06-2.06.94z\"/><path d=\"M17.41 7.96l-1.37-1.37c-.4-.4-.92-.59-1.43-.59-.52 0-1.04.2-1.43.59L10.3 9.45l-7.72 7.72c-.78.78-.78 2.05 0 2.83L4 21.41c.39.39.9.59 1.41.59.51 0 1.02-.2 1.41-.59l7.78-7.78 2.81-2.81c.8-.78.8-2.07 0-2.86zM5.41 20L4 18.59l7.72-7.72 1.47 1.35L5.41 20z\"/>\n",
              "  </svg>\n",
              "      </button>\n",
              "      \n",
              "  <style>\n",
              "    .colab-df-container {\n",
              "      display:flex;\n",
              "      flex-wrap:wrap;\n",
              "      gap: 12px;\n",
              "    }\n",
              "\n",
              "    .colab-df-convert {\n",
              "      background-color: #E8F0FE;\n",
              "      border: none;\n",
              "      border-radius: 50%;\n",
              "      cursor: pointer;\n",
              "      display: none;\n",
              "      fill: #1967D2;\n",
              "      height: 32px;\n",
              "      padding: 0 0 0 0;\n",
              "      width: 32px;\n",
              "    }\n",
              "\n",
              "    .colab-df-convert:hover {\n",
              "      background-color: #E2EBFA;\n",
              "      box-shadow: 0px 1px 2px rgba(60, 64, 67, 0.3), 0px 1px 3px 1px rgba(60, 64, 67, 0.15);\n",
              "      fill: #174EA6;\n",
              "    }\n",
              "\n",
              "    [theme=dark] .colab-df-convert {\n",
              "      background-color: #3B4455;\n",
              "      fill: #D2E3FC;\n",
              "    }\n",
              "\n",
              "    [theme=dark] .colab-df-convert:hover {\n",
              "      background-color: #434B5C;\n",
              "      box-shadow: 0px 1px 3px 1px rgba(0, 0, 0, 0.15);\n",
              "      filter: drop-shadow(0px 1px 2px rgba(0, 0, 0, 0.3));\n",
              "      fill: #FFFFFF;\n",
              "    }\n",
              "  </style>\n",
              "\n",
              "      <script>\n",
              "        const buttonEl =\n",
              "          document.querySelector('#df-b0a7582a-6c39-4c9e-bc36-d8a11f26dfdf button.colab-df-convert');\n",
              "        buttonEl.style.display =\n",
              "          google.colab.kernel.accessAllowed ? 'block' : 'none';\n",
              "\n",
              "        async function convertToInteractive(key) {\n",
              "          const element = document.querySelector('#df-b0a7582a-6c39-4c9e-bc36-d8a11f26dfdf');\n",
              "          const dataTable =\n",
              "            await google.colab.kernel.invokeFunction('convertToInteractive',\n",
              "                                                     [key], {});\n",
              "          if (!dataTable) return;\n",
              "\n",
              "          const docLinkHtml = 'Like what you see? Visit the ' +\n",
              "            '<a target=\"_blank\" href=https://colab.research.google.com/notebooks/data_table.ipynb>data table notebook</a>'\n",
              "            + ' to learn more about interactive tables.';\n",
              "          element.innerHTML = '';\n",
              "          dataTable['output_type'] = 'display_data';\n",
              "          await google.colab.output.renderOutput(dataTable, element);\n",
              "          const docLink = document.createElement('div');\n",
              "          docLink.innerHTML = docLinkHtml;\n",
              "          element.appendChild(docLink);\n",
              "        }\n",
              "      </script>\n",
              "    </div>\n",
              "  </div>\n",
              "  "
            ]
          },
          "metadata": {},
          "execution_count": 46
        }
      ]
    },
    {
      "cell_type": "code",
      "source": [
        "test_results = test_models(models, dataset)"
      ],
      "metadata": {
        "colab": {
          "base_uri": "https://localhost:8080/"
        },
        "id": "JqibwKHTW586",
        "outputId": "0c252d15-ba00-4910-bec8-5df23903d22a"
      },
      "execution_count": null,
      "outputs": [
        {
          "output_type": "stream",
          "name": "stdout",
          "text": [
            "Results for xgboost :\n",
            "R-squared score: 0.420888\n",
            "RMSE: 0.18333\n",
            "MAE: 0.132564\n",
            "MAPE: 2.648618 %\n"
          ]
        },
        {
          "output_type": "stream",
          "name": "stderr",
          "text": [
            "/usr/local/lib/python3.7/dist-packages/sklearn/neural_network/_multilayer_perceptron.py:1599: DataConversionWarning: A column-vector y was passed when a 1d array was expected. Please change the shape of y to (n_samples, ), for example using ravel().\n",
            "  y = column_or_1d(y, warn=True)\n"
          ]
        },
        {
          "output_type": "stream",
          "name": "stdout",
          "text": [
            "Iteration 1, loss = 0.01195069\n",
            "Iteration 2, loss = 0.00559699\n",
            "Iteration 3, loss = 0.00477198\n",
            "Iteration 4, loss = 0.00457227\n",
            "Iteration 5, loss = 0.00452161\n",
            "Iteration 6, loss = 0.00450946\n",
            "Iteration 7, loss = 0.00449979\n",
            "Iteration 8, loss = 0.00450051\n",
            "Iteration 9, loss = 0.00449871\n",
            "Iteration 10, loss = 0.00449879\n",
            "Training loss did not improve more than tol=0.000100 for 5 consecutive epochs. Stopping.\n",
            "Results for mlp :\n",
            "R-squared score: 0.352136\n",
            "RMSE: 0.193908\n",
            "MAE: 0.143814\n",
            "MAPE: 2.875904 %\n",
            "Results for linreg :\n",
            "R-squared score: 0.363216\n",
            "RMSE: 0.192242\n",
            "MAE: 0.141468\n",
            "MAPE: 2.827154 %\n"
          ]
        }
      ]
    },
    {
      "cell_type": "code",
      "source": [
        "test_results"
      ],
      "metadata": {
        "colab": {
          "base_uri": "https://localhost:8080/"
        },
        "id": "Z0paB0h6b-ZT",
        "outputId": "e7cb431f-3f68-4b24-e820-285df289df1e"
      },
      "execution_count": null,
      "outputs": [
        {
          "output_type": "execute_result",
          "data": {
            "text/plain": [
              "[[0.4208879208984483,\n",
              "  0.1833302687776724,\n",
              "  0.1325639880869777,\n",
              "  2.6486177382984053,\n",
              "  'xgboost'],\n",
              " [0.3521355171059649,\n",
              "  0.19390765275877606,\n",
              "  0.1438140494589933,\n",
              "  2.8759038376694934,\n",
              "  'mlp'],\n",
              " [0.3632161970356137,\n",
              "  0.1922422618332248,\n",
              "  0.14146835991080942,\n",
              "  2.827153649593235,\n",
              "  'linreg']]"
            ]
          },
          "metadata": {},
          "execution_count": 41
        }
      ]
    }
  ]
}